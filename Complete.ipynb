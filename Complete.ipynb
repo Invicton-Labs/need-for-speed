{
 "cells": [
  {
   "cell_type": "code",
   "execution_count": null,
   "metadata": {
    "slideshow": {
     "slide_type": "slide"
    }
   },
   "outputs": [],
   "source": [
    "import random\n",
    "import array\n",
    "import math\n",
    "from timeit import timeit\n",
    "import matplotlib\n",
    "from matplotlib import pyplot as plt\n",
    "%matplotlib inline\n",
    "matplotlib.rcParams['figure.figsize'] = (30, 10)\n",
    "default_figsize = (20, 10)"
   ]
  },
  {
   "cell_type": "code",
   "execution_count": null,
   "metadata": {
    "slideshow": {
     "slide_type": "subslide"
    }
   },
   "outputs": [],
   "source": [
    "def timefunc(loops, func, *args, **kwargs):\n",
    "    def wrapper(func, *args, **kwargs):\n",
    "        def wrapped():\n",
    "            return func(*args, **kwargs)\n",
    "        return wrapped\n",
    "    wrapped = wrapper(func, *args, **kwargs)\n",
    "    return timeit(wrapped, number=loops)/loops*1000"
   ]
  },
  {
   "cell_type": "code",
   "execution_count": null,
   "metadata": {
    "slideshow": {
     "slide_type": "fragment"
    }
   },
   "outputs": [],
   "source": [
    "def myplot(title, x, sets):\n",
    "    fig, ax = plt.subplots(figsize = default_figsize)\n",
    "    ax.set_xlabel('Number of Elements')\n",
    "    ax.set_ylabel('Duration (ms)')\n",
    "    for set_name, y in sets.items():\n",
    "        ax.plot(x, y, label=set_name)\n",
    "    ax.legend()  \n",
    "    return fig, ax"
   ]
  },
  {
   "cell_type": "code",
   "execution_count": null,
   "metadata": {},
   "outputs": [],
   "source": [
    "x = [2**i for i in range(1,21)]\n",
    "y_sets = {}"
   ]
  },
  {
   "cell_type": "code",
   "execution_count": null,
   "metadata": {},
   "outputs": [],
   "source": [
    "def mult_loop(data, multiplicant):\n",
    "    assert isinstance(data, list)\n",
    "    newlist = []\n",
    "    for element in data:\n",
    "        newlist.append(element * multiplicant)\n",
    "    return newlist\n",
    "\n",
    "y_sets['Loop'] = [timefunc(100, mult_loop, [random.random() for j in range(i)], random.random()) for i in x]\n",
    "\n",
    "myplot('Multiplication', x, y_sets)"
   ]
  },
  {
   "cell_type": "code",
   "execution_count": null,
   "metadata": {},
   "outputs": [],
   "source": [
    "def mult_loop_inplace(data, multiplicant):\n",
    "    assert isinstance(data, list)\n",
    "    for i in range(len(data)):\n",
    "        data[i] *= multiplicant\n",
    "    return data\n",
    "\n",
    "y_sets['Loop - In-Place'] = [timefunc(100, mult_loop_inplace, [random.random() for j in range(i)], random.random()) for i in x]\n",
    "\n",
    "myplot('Multiplication', x, y_sets)"
   ]
  },
  {
   "cell_type": "code",
   "execution_count": null,
   "metadata": {},
   "outputs": [],
   "source": [
    "def mult_comp(data, multiplicant):\n",
    "    assert isinstance(data, list)\n",
    "    return [i * multiplicant for i in data]\n",
    "\n",
    "y_sets['Comprehension'] = [timefunc(100, mult_comp, [random.random() for j in range(i)], random.random()) for i in x]\n",
    "\n",
    "myplot('Multiplication', x, y_sets)"
   ]
  },
  {
   "cell_type": "code",
   "execution_count": null,
   "metadata": {},
   "outputs": [],
   "source": [
    "def mult_map(data, multiplicant):\n",
    "    assert isinstance(data, list)\n",
    "    def mapfunc(n):\n",
    "        return n*multiplicant\n",
    "    return list(map(mapfunc, data))\n",
    "\n",
    "y_sets['Map'] = [timefunc(100, mult_comp, [random.random() for j in range(i)], random.random()) for i in x]\n",
    "\n",
    "myplot('Multiplication', x, y_sets)"
   ]
  },
  {
   "cell_type": "code",
   "execution_count": null,
   "metadata": {},
   "outputs": [],
   "source": [
    "def mult_array(data, multiplicant):\n",
    "    assert isinstance(data, array.array)\n",
    "    for i in range(len(data)):\n",
    "        data[i] *= multiplicant\n",
    "    return data\n",
    "\n",
    "y_sets['Array - In-Place'] = [timefunc(100, mult_array, array.array('f', [random.random() for j in range(i)]), random.random()) for i in x]\n",
    "\n",
    "myplot('Multiplication', x, y_sets)"
   ]
  },
  {
   "cell_type": "code",
   "execution_count": null,
   "metadata": {},
   "outputs": [],
   "source": [
    "import numpy as np"
   ]
  },
  {
   "cell_type": "code",
   "execution_count": null,
   "metadata": {},
   "outputs": [],
   "source": [
    "data_list = [i for i in range(20)]"
   ]
  },
  {
   "cell_type": "code",
   "execution_count": null,
   "metadata": {},
   "outputs": [],
   "source": [
    "data_np = np.array(data_list)\n",
    "data_np"
   ]
  },
  {
   "cell_type": "code",
   "execution_count": null,
   "metadata": {},
   "outputs": [],
   "source": [
    "data_np*1.9"
   ]
  },
  {
   "cell_type": "code",
   "execution_count": null,
   "metadata": {},
   "outputs": [],
   "source": [
    "def mult_np_convert(data, multiplicant):\n",
    "    assert isinstance(data, list)\n",
    "    data_np = np.array(data)\n",
    "    return data_np*multiplicant\n",
    "\n",
    "y_sets['NumPy - Conversion'] = [timefunc(100, mult_np_convert, [random.random() for j in range(i)], random.random()) for i in x]\n",
    "\n",
    "myplot('Multiplication', x, y_sets)"
   ]
  },
  {
   "cell_type": "code",
   "execution_count": null,
   "metadata": {},
   "outputs": [],
   "source": [
    "def mult_np_direct(data, multiplicant):\n",
    "    assert isinstance(data, np.ndarray)\n",
    "    return data*multiplicant\n",
    "\n",
    "y_sets['NumPy - Direct'] = [timefunc(100, mult_np_direct, np.random.rand(i), random.random()) for i in x]\n",
    "\n",
    "myplot('Multiplication', x, y_sets)"
   ]
  },
  {
   "cell_type": "code",
   "execution_count": null,
   "metadata": {},
   "outputs": [],
   "source": [
    "data = np.random.rand(100)\n",
    "np.sin(data)"
   ]
  },
  {
   "cell_type": "code",
   "execution_count": null,
   "metadata": {},
   "outputs": [],
   "source": [
    "def ewvm_loop(v1, v2):\n",
    "    assert isinstance(v1, list)\n",
    "    assert isinstance(v2, list)\n",
    "    assert len(v1) == len(v2)\n",
    "    v3 = []\n",
    "    for i in range(len(v1)):\n",
    "        v3.append(v1[i] * v2[i])\n",
    "    return v3\n",
    "\n",
    "def ewvm_loop_inplace(v1, v2):\n",
    "    assert isinstance(v1, list)\n",
    "    assert isinstance(v2, list)\n",
    "    assert len(v1) == len(v2)\n",
    "    for i in range(len(v1)):\n",
    "        v1[i] *= v2[i]\n",
    "    return v1\n",
    "\n",
    "def ewvm_comp(v1, v2):\n",
    "    assert isinstance(v1, list)\n",
    "    assert isinstance(v2, list)\n",
    "    assert len(v1) == len(v2)\n",
    "    return [v1[i] * v2[i] for i in range(len(v1))]\n",
    "\n",
    "def ewvm_map(v1, v2):\n",
    "    assert isinstance(v1, list)\n",
    "    assert isinstance(v2, list)\n",
    "    assert len(v1) == len(v2)\n",
    "    return list(map(lambda el: el[1]*v2[el[0]], enumerate(v1)))\n",
    "\n",
    "def ewvm_np_convert(v1, v2):\n",
    "    assert isinstance(v1, list)\n",
    "    assert isinstance(v2, list)\n",
    "    assert len(v1) == len(v2)\n",
    "    v1_np = np.array(v1)\n",
    "    v2_np = np.array(v2)\n",
    "    return np.multiply(v1_np, v2_np)\n",
    "\n",
    "def ewvm_np_direct(v1, v2):\n",
    "    assert isinstance(v1, np.ndarray)\n",
    "    assert isinstance(v2, np.ndarray)\n",
    "    assert len(v1) == len(v2)\n",
    "    return np.multiply(v1, v2)"
   ]
  },
  {
   "cell_type": "code",
   "execution_count": null,
   "metadata": {},
   "outputs": [],
   "source": [
    "# Prove that the various methods have the same result\n",
    "d1 = [random.random() for j in range(100)]\n",
    "d2 = [random.random() for j in range(100)]\n",
    "\n",
    "baseline = ewvm_loop(d1, d2)\n",
    "assert ewvm_comp(d1, d2) == baseline\n",
    "assert ewvm_map(d1, d2) == baseline\n",
    "assert ewvm_np_convert(d1, d2).tolist() == baseline\n",
    "assert ewvm_np_direct(np.array(d1), np.array(d2)).tolist() == baseline\n",
    "assert ewvm_loop_inplace(d1,d2) == baseline"
   ]
  },
  {
   "cell_type": "code",
   "execution_count": null,
   "metadata": {},
   "outputs": [],
   "source": [
    "x = [2**i for i in range(1,19)]\n",
    "y_sets = {}\n",
    "\n",
    "loops = 100\n",
    "y_sets['Loop'] = [timefunc(loops, ewvm_loop, [random.random() for j in range(i)],  [random.random() for j in range(i)]) for i in x]\n",
    "y_sets['Loop - In-Place'] = [timefunc(loops, ewvm_loop_inplace, [random.random() for j in range(i)], [random.random() for j in range(i)]) for i in x]\n",
    "y_sets['Comprehension'] = [timefunc(loops, ewvm_comp, [random.random() for j in range(i)], [random.random() for j in range(i)]) for i in x]\n",
    "y_sets['Map'] = [timefunc(loops, ewvm_map, [random.random() for j in range(i)], [random.random() for j in range(i)]) for i in x]\n",
    "y_sets['NumPy - Conversion'] = [timefunc(loops, ewvm_np_convert, [random.random() for j in range(i)], [random.random() for j in range(i)]) for i in x]\n",
    "y_sets['NumPy - Direct'] = [timefunc(loops, ewvm_np_direct, np.random.rand(i), np.random.rand(i)) for i in x]\n",
    "\n",
    "myplot('Multiplication', x, y_sets)"
   ]
  },
  {
   "cell_type": "code",
   "execution_count": null,
   "metadata": {},
   "outputs": [],
   "source": [
    "y_sets['Comprehension'][-1] / y_sets['NumPy - Direct'][-1]"
   ]
  },
  {
   "cell_type": "code",
   "execution_count": null,
   "metadata": {},
   "outputs": [],
   "source": [
    "def op_comp(v1, v2):\n",
    "    assert isinstance(v1, list)\n",
    "    assert isinstance(v2, list)\n",
    "    return [[v1[i]*v2[j] for j in range(len(v2))] for i in range(len(v1))]\n",
    "\n",
    "def op_np(v1, v2):\n",
    "    assert isinstance(v1, np.ndarray)\n",
    "    assert isinstance(v2, np.ndarray)\n",
    "    return np.outer(v1, v2)"
   ]
  },
  {
   "cell_type": "code",
   "execution_count": null,
   "metadata": {},
   "outputs": [],
   "source": [
    "v1 = [random.random() for j in range(10)]\n",
    "v2 = [random.random() for j in range(10)]\n",
    "\n",
    "a = op_comp(v1, v2)\n",
    "b = op_np(np.array(v1), np.array(v2))\n",
    "assert a == b.tolist()"
   ]
  },
  {
   "cell_type": "code",
   "execution_count": null,
   "metadata": {},
   "outputs": [],
   "source": [
    "b.shape"
   ]
  },
  {
   "cell_type": "code",
   "execution_count": null,
   "metadata": {},
   "outputs": [],
   "source": [
    "b"
   ]
  },
  {
   "cell_type": "code",
   "execution_count": null,
   "metadata": {},
   "outputs": [],
   "source": [
    "x = [2**i for i in range(1,13)]\n",
    "y_sets = {}\n",
    "\n",
    "loops = 10\n",
    "y_sets['Comprehension'] = [timefunc(loops, op_comp, [random.random() for j in range(i)],  [random.random() for j in range(i)]) for i in x]\n",
    "y_sets['NumPy'] = [timefunc(loops, op_np, np.array([random.random() for j in range(i)]), np.array([random.random() for j in range(i)])) for i in x]\n",
    "\n",
    "myplot('Outer Product', x, y_sets)"
   ]
  },
  {
   "cell_type": "code",
   "execution_count": null,
   "metadata": {},
   "outputs": [],
   "source": [
    "plt.imshow(plt.imread('burst.jpg'))"
   ]
  },
  {
   "cell_type": "code",
   "execution_count": null,
   "metadata": {},
   "outputs": [],
   "source": [
    "w = 400\n",
    "h = 320\n",
    "image = [[1.0 for x in range(w)] for y in range(h)]\n",
    "plt.imshow(image, cmap='gray', vmin=0, vmax=1)"
   ]
  },
  {
   "cell_type": "code",
   "execution_count": null,
   "metadata": {},
   "outputs": [],
   "source": [
    "w = 400\n",
    "h = 320\n",
    "min_radius = int(round(h/8))\n",
    "max_radius = int(math.ceil(math.sqrt(w**2 + h**2) / 2))\n",
    "center_x = int(round(w/2))\n",
    "center_y = int(round(h/2))\n",
    "\n",
    "image = [[1.0 for x in range(w)] for y in range(h)]\n",
    "\n",
    "for a in range(0, 360, 10):\n",
    "    for r in range(min_radius, max_radius + 1):\n",
    "        x = int(round(r * math.sin(a * math.pi / 180)))\n",
    "        y = int(round(r * math.cos(a * math.pi / 180)))\n",
    "        \n",
    "        x += center_x\n",
    "        y = center_y - y\n",
    "        if 0 <= x < w and 0 <= y < h:\n",
    "            image[y][x] = 0\n",
    "\n",
    "plt.imshow(image, cmap='gray', vmin=0, vmax=1)"
   ]
  },
  {
   "cell_type": "code",
   "execution_count": null,
   "metadata": {},
   "outputs": [],
   "source": [
    "w = 400\n",
    "h = 320\n",
    "min_radius = int(round(h/8))\n",
    "max_radius = int(math.ceil(math.sqrt(w**2 + h**2) / 2))\n",
    "center_x = int(round(w/2))\n",
    "center_y = int(round(h/2))\n",
    "\n",
    "image = [[1.0 for x in range(w)] for y in range(h)]\n",
    "\n",
    "for a in range(0, 360, 10):\n",
    "    for r in range(min_radius, max_radius + 1):\n",
    "        x = int(round(r * math.sin(a * math.pi / 180)))\n",
    "        y = int(round(r * math.cos(a * math.pi / 180)))\n",
    "        \n",
    "        x += center_x\n",
    "        y = center_y - y\n",
    "        if 0 <= x < w and 0 <= y < h:\n",
    "            image[y][x] = 0\n",
    "            \n",
    "image_clr = [[[image[y][x], image[y][x], image[y][x]] for x in range(w)] for y in range(h)]\n",
    "\n",
    "for y in range(h):\n",
    "    for x in range(w):\n",
    "        if image[y][x] == 0:\n",
    "            radius = math.sqrt((y - center_y)**2 + (x - center_x) ** 2)\n",
    "            if radius < h/5:\n",
    "                image_clr[y][x] = [1, 0, 0]\n",
    "            elif radius < 2*h/5:\n",
    "                image_clr[y][x] = [0, 1, 0]\n",
    "            elif radius < 3*h/5:\n",
    "                image_clr[y][x] = [0, 0, 1]\n",
    "\n",
    "plt.imshow(image_clr, vmin=0, vmax=1)"
   ]
  },
  {
   "cell_type": "code",
   "execution_count": null,
   "metadata": {},
   "outputs": [],
   "source": [
    "w = 400\n",
    "h = 320\n",
    "min_radius = np.rint(h/8)\n",
    "max_radius = round(np.ceil(math.sqrt(w**2 + h**2) / 2))\n",
    "center_x = np.rint(w/2)\n",
    "center_y = np.rint(h/2)\n",
    "\n",
    "image = np.ones((h, w), dtype=np.float)\n",
    "angles = np.arange(0, 360, 10)\n",
    "radii = np.arange(min_radius, max_radius + 1)\n",
    "\n",
    "sins = np.sin(angles * math.pi / 180)\n",
    "coss = np.cos(angles * math.pi / 180)\n",
    "\n",
    "y_coords = center_y - np.outer(coss, radii)\n",
    "x_coords = center_x + np.outer(sins, radii)\n",
    "\n",
    "y_coords_int = np.rint(y_coords).astype(np.int)\n",
    "x_coords_int = np.rint(x_coords).astype(np.int)\n",
    "\n",
    "y_coords_int.shape"
   ]
  },
  {
   "cell_type": "code",
   "execution_count": null,
   "metadata": {},
   "outputs": [],
   "source": [
    "y_coords_flat = y_coords_int.flatten()\n",
    "x_coords_flat = x_coords_int.flatten()\n",
    "\n",
    "y_coords_flat.shape"
   ]
  },
  {
   "cell_type": "code",
   "execution_count": null,
   "metadata": {},
   "outputs": [],
   "source": [
    "valid_points = (y_coords_flat >= 0) & (y_coords_flat < h) & (x_coords_flat >= 0) & (x_coords_flat < w)\n",
    "y_coords_valid = y_coords_flat[valid_points]\n",
    "x_coords_valid = x_coords_flat[valid_points]"
   ]
  },
  {
   "cell_type": "code",
   "execution_count": null,
   "metadata": {},
   "outputs": [],
   "source": [
    "image[y_coords_valid, x_coords_valid] = 0\n",
    "plt.imshow(image, cmap='gray', vmin=0, vmax=1)"
   ]
  },
  {
   "cell_type": "code",
   "execution_count": null,
   "metadata": {},
   "outputs": [],
   "source": [
    "image_clr = image[:, :, np.newaxis]\n",
    "image_clr = np.repeat(image_clr, 3, 2)\n",
    "image_clr.shape"
   ]
  },
  {
   "cell_type": "code",
   "execution_count": null,
   "metadata": {},
   "outputs": [],
   "source": [
    "black_points = np.where(image == 0)\n",
    "black_point_radii = np.sqrt((black_points[0] - center_y)**2 + (black_points[1] - center_x)**2)\n",
    "\n",
    "red_idx = black_point_radii < h/5\n",
    "green_idx = (black_point_radii >= h/5) & (black_point_radii < 2*h/5)\n",
    "blue_idx = (black_point_radii >= 2*h/5) & (black_point_radii < 3*h/5)\n",
    "\n",
    "image_clr[black_points[0][red_idx], black_points[1][red_idx]] = [1, 0, 0]\n",
    "image_clr[black_points[0][green_idx], black_points[1][green_idx]] = [0, 1, 0]\n",
    "image_clr[black_points[0][blue_idx], black_points[1][blue_idx]] = [0, 0, 1]\n",
    "plt.imshow(image_clr, vmin=0, vmax=1)"
   ]
  },
  {
   "cell_type": "code",
   "execution_count": null,
   "metadata": {},
   "outputs": [],
   "source": [
    "w = 400\n",
    "h = 320\n",
    "min_radius = np.rint(h/8)\n",
    "max_radius = round(np.ceil(math.sqrt(w**2 + h**2) / 2))\n",
    "center_x = np.rint(w/2)\n",
    "center_y = np.rint(h/2)\n",
    "\n",
    "image = np.ones((h, w), dtype=np.float)\n",
    "angles = np.arange(0, 360, 10)\n",
    "radii = np.arange(min_radius, max_radius + 1)\n",
    "\n",
    "sins = np.sin(angles * math.pi / 180)\n",
    "coss = np.cos(angles * math.pi / 180)\n",
    "\n",
    "y_coords = center_y - np.outer(coss, radii)\n",
    "x_coords = center_x + np.outer(sins, radii)\n",
    "\n",
    "y_coords_int = np.rint(y_coords).astype(np.int)\n",
    "x_coords_int = np.rint(x_coords).astype(np.int)\n",
    "\n",
    "y_coords_flat = y_coords_int.flatten()\n",
    "x_coords_flat = x_coords_int.flatten()\n",
    "\n",
    "valid_points = (y_coords_flat >= 0) & (y_coords_flat < h) & (x_coords_flat >= 0) & (x_coords_flat < w)\n",
    "y_coords_valid = y_coords_flat[valid_points]\n",
    "x_coords_valid = x_coords_flat[valid_points]\n",
    "\n",
    "image[y_coords_valid, x_coords_valid] = 0\n",
    "\n",
    "image_clr = image[:, :, np.newaxis]\n",
    "image_clr = np.repeat(image_clr, 3, 2)\n",
    "\n",
    "black_points = np.where(image == 0)\n",
    "black_point_radii = np.sqrt((black_points[0] - center_y)**2 + (black_points[1] - center_x)**2)\n",
    "\n",
    "red_idx = black_point_radii < h/5\n",
    "green_idx = (black_point_radii >= h/5) & (black_point_radii < 2*h/5)\n",
    "blue_idx = (black_point_radii >= 2*h/5) & (black_point_radii < 3*h/5)\n",
    "\n",
    "image_clr[black_points[0][red_idx], black_points[1][red_idx]] = [1, 0, 0]\n",
    "image_clr[black_points[0][green_idx], black_points[1][green_idx]] = [0, 1, 0]\n",
    "image_clr[black_points[0][blue_idx], black_points[1][blue_idx]] = [0, 0, 1]\n",
    "plt.imshow(image_clr, vmin=0, vmax=1)"
   ]
  },
  {
   "cell_type": "code",
   "execution_count": null,
   "metadata": {},
   "outputs": [],
   "source": [
    "def image_python(h):\n",
    "    w = int(round(h*1.25))\n",
    "    min_radius = int(round(h/8))\n",
    "    max_radius = int(math.ceil(math.sqrt(w**2 + h**2) / 2))\n",
    "    center_x = int(round(w/2))\n",
    "    center_y = int(round(h/2))\n",
    "\n",
    "    image = [[1.0 for x in range(w)] for y in range(h)]\n",
    "\n",
    "    for a in range(0, 360, 10):\n",
    "        for r in range(min_radius, max_radius + 1):\n",
    "            x = int(round(r * math.sin(a * math.pi / 180)))\n",
    "            y = int(round(r * math.cos(a * math.pi / 180)))\n",
    "\n",
    "            x += center_x\n",
    "            y = center_y - y\n",
    "            if 0 <= x < w and 0 <= y < h:\n",
    "                image[y][x] = 0\n",
    "\n",
    "    image_clr = [[[image[y][x], image[y][x], image[y][x]] for x in range(w)] for y in range(h)]\n",
    "\n",
    "    for y in range(h):\n",
    "        for x in range(w):\n",
    "            if image[y][x] == 0:\n",
    "                radius = math.sqrt((y - center_y)**2 + (x - center_x) ** 2)\n",
    "                if radius < h/5:\n",
    "                    image_clr[y][x] = [1, 0, 0]\n",
    "                elif radius < 2*h/5:\n",
    "                    image_clr[y][x] = [0, 1, 0]\n",
    "                elif radius < 3*h/5:\n",
    "                    image_clr[y][x] = [0, 0, 1]"
   ]
  },
  {
   "cell_type": "code",
   "execution_count": null,
   "metadata": {},
   "outputs": [],
   "source": [
    "def image_numpy(h):\n",
    "    w = int(round(h*1.25))\n",
    "    min_radius = np.rint(h/8)\n",
    "    max_radius = round(np.ceil(math.sqrt(w**2 + h**2) / 2))\n",
    "    center_x = np.rint(w/2)\n",
    "    center_y = np.rint(h/2)\n",
    "\n",
    "    image = np.ones((h, w), dtype=np.float)\n",
    "    angles = np.arange(0, 360, 10)\n",
    "    radii = np.arange(min_radius, max_radius + 1)\n",
    "\n",
    "    sins = np.sin(angles * math.pi / 180)\n",
    "    coss = np.cos(angles * math.pi / 180)\n",
    "\n",
    "    y_coords = center_y - np.outer(coss, radii)\n",
    "    x_coords = center_x + np.outer(sins, radii)\n",
    "\n",
    "    y_coords_int = np.rint(y_coords).astype(np.int)\n",
    "    x_coords_int = np.rint(x_coords).astype(np.int)\n",
    "\n",
    "    y_coords_flat = y_coords_int.flatten()\n",
    "    x_coords_flat = x_coords_int.flatten()\n",
    "\n",
    "    valid_points = (y_coords_flat >= 0) & (y_coords_flat < h) & (x_coords_flat >= 0) & (x_coords_flat < w)\n",
    "    y_coords_valid = y_coords_flat[valid_points]\n",
    "    x_coords_valid = x_coords_flat[valid_points]\n",
    "\n",
    "    image[y_coords_valid, x_coords_valid] = 0\n",
    "\n",
    "    image_clr = image[:, :, np.newaxis]\n",
    "    image_clr = np.repeat(image_clr, 3, 2)\n",
    "\n",
    "    black_points = np.where(image == 0)\n",
    "    black_point_radii = np.sqrt((black_points[0] - center_y)**2 + (black_points[1] - center_x)**2)\n",
    "\n",
    "    red_idx = black_point_radii < h/5\n",
    "    green_idx = (black_point_radii >= h/5) & (black_point_radii < 2*h/5)\n",
    "    blue_idx = (black_point_radii >= 2*h/5) & (black_point_radii < 3*h/5)\n",
    "\n",
    "    image_clr[black_points[0][red_idx], black_points[1][red_idx]] = [1, 0, 0]\n",
    "    image_clr[black_points[0][green_idx], black_points[1][green_idx]] = [0, 1, 0]\n",
    "    image_clr[black_points[0][blue_idx], black_points[1][blue_idx]] = [0, 0, 1]"
   ]
  },
  {
   "cell_type": "code",
   "execution_count": null,
   "metadata": {},
   "outputs": [],
   "source": [
    "x = [2**i for i in range(1,11)]\n",
    "\n",
    "y_sets = {\n",
    "    'Python': [timefunc(20, image_python, h) for h in x],\n",
    "    'Numpy': [timefunc(20, image_numpy, h) for h in x]\n",
    "}\n",
    "\n",
    "myplot('Image Generation', x, y_sets)"
   ]
  }
 ],
 "metadata": {
  "celltoolbar": "Slideshow",
  "kernelspec": {
   "display_name": "Python 3",
   "language": "python",
   "name": "python3"
  },
  "language_info": {
   "codemirror_mode": {
    "name": "ipython",
    "version": 3
   },
   "file_extension": ".py",
   "mimetype": "text/x-python",
   "name": "python",
   "nbconvert_exporter": "python",
   "pygments_lexer": "ipython3",
   "version": "3.7.2"
  }
 },
 "nbformat": 4,
 "nbformat_minor": 4
}
