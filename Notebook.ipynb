{
 "cells": [
  {
   "cell_type": "code",
   "execution_count": null,
   "metadata": {
    "slideshow": {
     "slide_type": "slide"
    }
   },
   "outputs": [],
   "source": [
    "import random\n",
    "import array\n",
    "from timeit import timeit\n",
    "import matplotlib\n",
    "from matplotlib import pyplot as plt\n",
    "%matplotlib inline\n",
    "default_figsize = (20, 10)"
   ]
  },
  {
   "cell_type": "code",
   "execution_count": null,
   "metadata": {
    "jupyter": {
     "source_hidden": true
    },
    "slideshow": {
     "slide_type": "subslide"
    }
   },
   "outputs": [],
   "source": [
    "def timefunc(loops, func, *args, **kwargs):\n",
    "    def wrapper(func, *args, **kwargs):\n",
    "        def wrapped():\n",
    "            return func(*args, **kwargs)\n",
    "        return wrapped\n",
    "    wrapped = wrapper(func, *args, **kwargs)\n",
    "    return timeit(wrapped, number=loops)/loops*1000"
   ]
  },
  {
   "cell_type": "code",
   "execution_count": null,
   "metadata": {
    "jupyter": {
     "source_hidden": true
    },
    "slideshow": {
     "slide_type": "fragment"
    }
   },
   "outputs": [],
   "source": [
    "def myplot(title, x, sets):\n",
    "    fig, ax = plt.subplots(figsize = default_figsize)\n",
    "    ax.set_xlabel('Number of Elements')\n",
    "    ax.set_ylabel('Duration (ms)')\n",
    "    for set_name, y in sets.items():\n",
    "        ax.plot(x, y, label=set_name)\n",
    "    ax.legend()  \n",
    "    return fig, ax"
   ]
  },
  {
   "cell_type": "code",
   "execution_count": null,
   "metadata": {
    "jupyter": {
     "source_hidden": true
    }
   },
   "outputs": [],
   "source": [
    "x = [2**i for i in range(1,21)]\n",
    "y_sets = {}"
   ]
  },
  {
   "cell_type": "code",
   "execution_count": null,
   "metadata": {
    "jupyter": {
     "source_hidden": true
    }
   },
   "outputs": [],
   "source": [
    "def mult_loop(data, multiplicant):\n",
    "    assert isinstance(data, list)\n",
    "    newlist = []\n",
    "    for element in data:\n",
    "        newlist.append(element * multiplicant)\n",
    "    return newlist\n",
    "\n",
    "y_sets['Loop'] = [timefunc(100, mult_loop, [random.random() for j in range(i)], random.random()) for i in x]\n",
    "\n",
    "myplot('Multiplication', x, y_sets)"
   ]
  },
  {
   "cell_type": "code",
   "execution_count": null,
   "metadata": {
    "jupyter": {
     "source_hidden": true
    }
   },
   "outputs": [],
   "source": [
    "def mult_loop_inplace(data, multiplicant):\n",
    "    assert isinstance(data, list)\n",
    "    for i in range(len(data)):\n",
    "        data[i] *= multiplicant\n",
    "    return data\n",
    "\n",
    "y_sets['Loop - In-Place'] = [timefunc(100, mult_loop_inplace, [random.random() for j in range(i)], random.random()) for i in x]\n",
    "\n",
    "myplot('Multiplication', x, y_sets)"
   ]
  },
  {
   "cell_type": "code",
   "execution_count": null,
   "metadata": {
    "jupyter": {
     "source_hidden": true
    }
   },
   "outputs": [],
   "source": [
    "def mult_comp(data, multiplicant):\n",
    "    assert isinstance(data, list)\n",
    "    return [i * multiplicant for i in data]\n",
    "\n",
    "y_sets['Comprehension'] = [timefunc(100, mult_comp, [random.random() for j in range(i)], random.random()) for i in x]\n",
    "\n",
    "myplot('Multiplication', x, y_sets)"
   ]
  },
  {
   "cell_type": "code",
   "execution_count": null,
   "metadata": {
    "jupyter": {
     "source_hidden": true
    }
   },
   "outputs": [],
   "source": [
    "def mult_map(data, multiplicant):\n",
    "    assert isinstance(data, list)\n",
    "    def mapfunc(n):\n",
    "        return n*multiplicant\n",
    "    return list(map(mapfunc, data))\n",
    "\n",
    "y_sets['Map'] = [timefunc(100, mult_comp, [random.random() for j in range(i)], random.random()) for i in x]\n",
    "\n",
    "myplot('Multiplication', x, y_sets)"
   ]
  },
  {
   "cell_type": "code",
   "execution_count": null,
   "metadata": {
    "jupyter": {
     "source_hidden": true
    }
   },
   "outputs": [],
   "source": [
    "def mult_array(data, multiplicant):\n",
    "    assert isinstance(data, array.array)\n",
    "    for i in range(len(data)):\n",
    "        data[i] *= multiplicant\n",
    "    return data\n",
    "\n",
    "y_sets['Array - In-Place'] = [timefunc(100, mult_array, array.array('f', [random.random() for j in range(i)]), random.random()) for i in x]\n",
    "\n",
    "myplot('Multiplication', x, y_sets)"
   ]
  },
  {
   "cell_type": "code",
   "execution_count": null,
   "metadata": {
    "jupyter": {
     "source_hidden": true
    }
   },
   "outputs": [],
   "source": [
    "import numpy as np"
   ]
  },
  {
   "cell_type": "code",
   "execution_count": null,
   "metadata": {
    "jupyter": {
     "source_hidden": true
    }
   },
   "outputs": [],
   "source": [
    "data_list = [i for i in range(20)]"
   ]
  },
  {
   "cell_type": "code",
   "execution_count": null,
   "metadata": {
    "jupyter": {
     "source_hidden": true
    }
   },
   "outputs": [],
   "source": [
    "data_np = np.array(data_list)\n",
    "data_np"
   ]
  },
  {
   "cell_type": "code",
   "execution_count": null,
   "metadata": {
    "jupyter": {
     "source_hidden": true
    }
   },
   "outputs": [],
   "source": [
    "data_np*1.9"
   ]
  },
  {
   "cell_type": "code",
   "execution_count": null,
   "metadata": {
    "jupyter": {
     "source_hidden": true
    }
   },
   "outputs": [],
   "source": [
    "def mult_np_convert(data, multiplicant):\n",
    "    assert isinstance(data, list)\n",
    "    data_np = np.array(data)\n",
    "    return data_np*multiplicant\n",
    "\n",
    "y_sets['NumPy - Conversion'] = [timefunc(100, mult_np_convert, [random.random() for j in range(i)], random.random()) for i in x]\n",
    "\n",
    "myplot('Multiplication', x, y_sets)"
   ]
  },
  {
   "cell_type": "code",
   "execution_count": null,
   "metadata": {
    "jupyter": {
     "source_hidden": true
    }
   },
   "outputs": [],
   "source": [
    "def mult_np_direct(data, multiplicant):\n",
    "    assert isinstance(data, np.ndarray)\n",
    "    return data*multiplicant\n",
    "\n",
    "y_sets['NumPy - Direct'] = [timefunc(100, mult_np_direct, np.random.rand(i), random.random()) for i in x]\n",
    "\n",
    "myplot('Multiplication', x, y_sets)"
   ]
  },
  {
   "cell_type": "code",
   "execution_count": null,
   "metadata": {
    "jupyter": {
     "source_hidden": true
    }
   },
   "outputs": [],
   "source": [
    "data = np.random.rand(100)\n",
    "np.sin(data)"
   ]
  },
  {
   "cell_type": "code",
   "execution_count": null,
   "metadata": {
    "jupyter": {
     "source_hidden": true
    }
   },
   "outputs": [],
   "source": [
    "def ewvm_loop(v1, v2):\n",
    "    assert isinstance(v1, list)\n",
    "    assert isinstance(v2, list)\n",
    "    assert len(v1) == len(v2)\n",
    "    v3 = []\n",
    "    for i in range(len(v1)):\n",
    "        v3.append(v1[i] * v2[i])\n",
    "    return v3\n",
    "\n",
    "def ewvm_loop_inplace(v1, v2):\n",
    "    assert isinstance(v1, list)\n",
    "    assert isinstance(v2, list)\n",
    "    assert len(v1) == len(v2)\n",
    "    for i in range(len(v1)):\n",
    "        v1[i] *= v2[i]\n",
    "    return v1\n",
    "\n",
    "def ewvm_comp(v1, v2):\n",
    "    assert isinstance(v1, list)\n",
    "    assert isinstance(v2, list)\n",
    "    assert len(v1) == len(v2)\n",
    "    return [v1[i] * v2[i] for i in range(len(v1))]\n",
    "\n",
    "def ewvm_map(v1, v2):\n",
    "    assert isinstance(v1, list)\n",
    "    assert isinstance(v2, list)\n",
    "    assert len(v1) == len(v2)\n",
    "    return list(map(lambda el: el[1]*v2[el[0]], enumerate(v1)))\n",
    "\n",
    "def ewvm_np_convert(v1, v2):\n",
    "    assert isinstance(v1, list)\n",
    "    assert isinstance(v2, list)\n",
    "    assert len(v1) == len(v2)\n",
    "    v1_np = np.array(v1)\n",
    "    v2_np = np.array(v2)\n",
    "    return np.multiply(v1_np, v2_np)\n",
    "\n",
    "def ewvm_np_direct(v1, v2):\n",
    "    assert isinstance(v1, np.ndarray)\n",
    "    assert isinstance(v2, np.ndarray)\n",
    "    assert len(v1) == len(v2)\n",
    "    return np.multiply(v1, v2)"
   ]
  },
  {
   "cell_type": "code",
   "execution_count": null,
   "metadata": {
    "jupyter": {
     "source_hidden": true
    }
   },
   "outputs": [],
   "source": [
    "# Prove that the various methods have the same result\n",
    "d1 = [random.random() for j in range(100)]\n",
    "d2 = [random.random() for j in range(100)]\n",
    "\n",
    "baseline = ewvm_loop(d1, d2)\n",
    "assert ewvm_comp(d1, d2) == baseline\n",
    "assert ewvm_map(d1, d2) == baseline\n",
    "assert ewvm_np_convert(d1, d2).tolist() == baseline\n",
    "assert ewvm_np_direct(np.array(d1), np.array(d2)).tolist() == baseline\n",
    "assert ewvm_loop_inplace(d1,d2) == baseline"
   ]
  },
  {
   "cell_type": "code",
   "execution_count": null,
   "metadata": {
    "jupyter": {
     "source_hidden": true
    }
   },
   "outputs": [],
   "source": [
    "x = [2**i for i in range(1,19)]\n",
    "y_sets = {}\n",
    "\n",
    "loops = 100\n",
    "y_sets['Loop'] = [timefunc(loops, ewvm_loop, [random.random() for j in range(i)],  [random.random() for j in range(i)]) for i in x]\n",
    "y_sets['Loop - In-Place'] = [timefunc(loops, ewvm_loop_inplace, [random.random() for j in range(i)], [random.random() for j in range(i)]) for i in x]\n",
    "y_sets['Comprehension'] = [timefunc(loops, ewvm_comp, [random.random() for j in range(i)], [random.random() for j in range(i)]) for i in x]\n",
    "y_sets['Map'] = [timefunc(loops, ewvm_map, [random.random() for j in range(i)], [random.random() for j in range(i)]) for i in x]\n",
    "y_sets['NumPy - Conversion'] = [timefunc(loops, ewvm_np_convert, [random.random() for j in range(i)], [random.random() for j in range(i)]) for i in x]\n",
    "y_sets['NumPy - Direct'] = [timefunc(loops, ewvm_np_direct, np.random.rand(i), np.random.rand(i)) for i in x]\n",
    "\n",
    "myplot('Multiplication', x, y_sets)"
   ]
  },
  {
   "cell_type": "code",
   "execution_count": null,
   "metadata": {
    "jupyter": {
     "source_hidden": true
    }
   },
   "outputs": [],
   "source": [
    "y_sets['Comprehension'][-1] / y_sets['NumPy - Direct'][-1]"
   ]
  },
  {
   "cell_type": "code",
   "execution_count": null,
   "metadata": {
    "jupyter": {
     "source_hidden": true
    }
   },
   "outputs": [],
   "source": [
    "def op_comp(v1, v2):\n",
    "    assert isinstance(v1, list)\n",
    "    assert isinstance(v2, list)\n",
    "    return [[v1[i]*v2[j] for j in range(len(v2))] for i in range(len(v1))]\n",
    "\n",
    "def op_np(v1, v2):\n",
    "    assert isinstance(v1, np.ndarray)\n",
    "    assert isinstance(v2, np.ndarray)\n",
    "    return np.outer(v1, v2)"
   ]
  },
  {
   "cell_type": "code",
   "execution_count": null,
   "metadata": {
    "jupyter": {
     "source_hidden": true
    }
   },
   "outputs": [],
   "source": [
    "v1 = [random.random() for j in range(10)]\n",
    "v2 = [random.random() for j in range(10)]\n",
    "\n",
    "a = op_comp(v1, v2)\n",
    "b = op_np(np.array(v1), np.array(v2))\n",
    "assert a == b.tolist()"
   ]
  },
  {
   "cell_type": "code",
   "execution_count": null,
   "metadata": {
    "jupyter": {
     "source_hidden": true
    }
   },
   "outputs": [],
   "source": [
    "b.shape"
   ]
  },
  {
   "cell_type": "code",
   "execution_count": null,
   "metadata": {
    "jupyter": {
     "source_hidden": true
    }
   },
   "outputs": [],
   "source": [
    "b"
   ]
  },
  {
   "cell_type": "code",
   "execution_count": null,
   "metadata": {
    "jupyter": {
     "source_hidden": true
    }
   },
   "outputs": [],
   "source": [
    "x = [2**i for i in range(1,13)]\n",
    "y_sets = {}\n",
    "\n",
    "loops = 10\n",
    "y_sets['Comprehension'] = [timefunc(loops, op_comp, [random.random() for j in range(i)],  [random.random() for j in range(i)]) for i in x]\n",
    "y_sets['NumPy'] = [timefunc(loops, op_np, np.array([random.random() for j in range(i)]), np.array([random.random() for j in range(i)])) for i in x]\n",
    "\n",
    "myplot('Outer Product', x, y_sets)"
   ]
  }
 ],
 "metadata": {
  "celltoolbar": "Slideshow",
  "kernelspec": {
   "display_name": "Python 3",
   "language": "python",
   "name": "python3"
  },
  "language_info": {
   "codemirror_mode": {
    "name": "ipython",
    "version": 3
   },
   "file_extension": ".py",
   "mimetype": "text/x-python",
   "name": "python",
   "nbconvert_exporter": "python",
   "pygments_lexer": "ipython3",
   "version": "3.7.2"
  }
 },
 "nbformat": 4,
 "nbformat_minor": 4
}
